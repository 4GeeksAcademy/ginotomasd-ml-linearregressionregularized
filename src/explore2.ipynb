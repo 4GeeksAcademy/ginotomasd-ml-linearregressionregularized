{
 "cells": [
  {
   "cell_type": "markdown",
   "id": "fe2b6818",
   "metadata": {},
   "source": [
    "# Regularized Linear Regression Project - U.S. County-Level Socio-Demographic and Health Data (2018–2019)"
   ]
  },
  {
   "cell_type": "code",
   "execution_count": null,
   "id": "06cf8dd5",
   "metadata": {},
   "outputs": [],
   "source": [
    "# -------------------------------------\n",
    "# Import libraries\n",
    "# -------------------------------------\n",
    "import pandas as pd\n",
    "import numpy as np\n",
    "from sklearn.model_selection import train_test_split, GridSearchCV, cross_val_score\n",
    "from sklearn.linear_model import LinearRegression, Lasso\n",
    "from sklearn.metrics import r2_score\n",
    "import matplotlib.pyplot as plt\n",
    "import seaborn as sns"
   ]
  },
  {
   "cell_type": "markdown",
   "id": "5dbff46a",
   "metadata": {},
   "source": [
    "## 1. Load the dataset"
   ]
  },
  {
   "cell_type": "code",
   "execution_count": null,
   "id": "bd48b9a7",
   "metadata": {},
   "outputs": [],
   "source": [
    "url = 'https://raw.githubusercontent.com/4GeeksAcademy/regularized-linear-regression-project-tutorial/main/demographic_health_data.csv'\n",
    "df = pd.read_csv(url)\n",
    "\n",
    "print(\"Dataset loaded successfully!\")\n",
    "print(f\"Shape: {df.shape}\")"
   ]
  },
  {
   "cell_type": "markdown",
   "id": "f8b0bf21",
   "metadata": {},
   "source": [
    "> We load the dataset directly from the provided GitHub link to ensure we are using the correct data source.  \n",
    "\n",
    "> This dataset contains socio-demographic and health-related data for U.S. counties.\n"
   ]
  },
  {
   "cell_type": "markdown",
   "id": "c3bccd7d",
   "metadata": {},
   "source": [
    "## 2. Define target variable"
   ]
  },
  {
   "cell_type": "code",
   "execution_count": null,
   "id": "147ddf7d",
   "metadata": {},
   "outputs": [],
   "source": [
    "target = 'Obesity_prevalence'\n",
    "\n",
    "if target not in df.columns:\n",
    "    raise ValueError(\"Target variable not found in dataset!\")"
   ]
  },
  {
   "cell_type": "markdown",
   "id": "c5de3ad5",
   "metadata": {},
   "source": [
    "> We select **Obesity Prevalence** as the target variable because it is a key health indicator we aim to predict based on socio-demographic features."
   ]
  },
  {
   "cell_type": "markdown",
   "id": "62585ba4",
   "metadata": {},
   "source": [
    "## 3. Exploratory Data Analysis (EDA)"
   ]
  },
  {
   "cell_type": "code",
   "execution_count": null,
   "id": "4cb7e364",
   "metadata": {},
   "outputs": [],
   "source": [
    "# Basic dataset information\n",
    "print(\"\\nDataset info:\")\n",
    "print(df.info())\n",
    "\n",
    "# Check for missing values\n",
    "print(\"\\nMissing values per column:\")\n",
    "print(df.isnull().sum())"
   ]
  },
  {
   "cell_type": "markdown",
   "id": "e1baffb4",
   "metadata": {},
   "source": [
    "### Correlation"
   ]
  },
  {
   "cell_type": "code",
   "execution_count": null,
   "id": "3f15d293",
   "metadata": {},
   "outputs": [],
   "source": [
    "# Correlation Heatmap\n",
    "\n",
    "plt.figure(figsize=(12, 10))\n",
    "correlation_matrix = df.corr(numeric_only=True)\n",
    "sns.heatmap(correlation_matrix, cmap='coolwarm', annot=False)\n",
    "plt.title('Correlation Heatmap')\n",
    "plt.show()"
   ]
  },
  {
   "cell_type": "markdown",
   "id": "ddfca7a4",
   "metadata": {},
   "source": [
    "> We plot a correlation heatmap to visualize the relationships between variables. This helps us identify which features are most related to our target and whether there is multicollinearity."
   ]
  },
  {
   "cell_type": "code",
   "execution_count": null,
   "id": "2dd3762a",
   "metadata": {},
   "outputs": [],
   "source": [
    "# Correlation with target variable\n",
    "cor_target = correlation_matrix[target].drop(target)\n",
    "top_features = cor_target.abs().sort_values(ascending=False).head(10)\n",
    "print(\"\\nTop 10 correlated features with target:\")\n",
    "print(top_features)"
   ]
  },
  {
   "cell_type": "markdown",
   "id": "2c9cff1b",
   "metadata": {},
   "source": [
    "## 4. Data Cleaning"
   ]
  },
  {
   "cell_type": "code",
   "execution_count": null,
   "id": "6c0cfb88",
   "metadata": {},
   "outputs": [],
   "source": [
    "# Remove **identifier columns** (such as county names) that do not help prediction.\n",
    "id_cols = ['fips', 'COUNTY_NAME', 'STATE_NAME', 'STATE_FIPS', 'CNTY_FIPS']\n",
    "df.drop(columns=[col for col in id_cols if col in df.columns], inplace=True)\n",
    "\n",
    "# Drop **columns with more than 30% missing data** to avoid introducing bias.\n",
    "threshold = len(df) * 0.3\n",
    "df = df.loc[:, df.isnull().sum() <= threshold]\n",
    "\n",
    "# Remove **leakage columns** that could give the model information too directly related to the target.\n",
    "leakage_cols = [\n",
    "    'Obesity_Upper 95% CI', 'Obesity_Lower 95% CI',\n",
    "    'anycondition_Upper 95% CI', 'anycondition_Lower 95% CI',\n",
    "    'anycondition_prevalence'\n",
    "]\n",
    "df.drop(columns=[col for col in leakage_cols if col in df.columns], inplace=True)\n",
    "\n",
    "# Remaining missing values are filled with the mean of each feature to preserve as much data as possible while providing reasonable estimates.\n",
    "df.fillna(df.mean(numeric_only=True), inplace=True)"
   ]
  },
  {
   "cell_type": "markdown",
   "id": "a78c80a0",
   "metadata": {},
   "source": [
    "## 5. Prepare features and target"
   ]
  },
  {
   "cell_type": "markdown",
   "id": "854da3ca",
   "metadata": {},
   "source": [
    "> We separate our features (X) from the target variable (y) to prepare for model training.\n"
   ]
  },
  {
   "cell_type": "code",
   "execution_count": null,
   "id": "8f277bfb",
   "metadata": {},
   "outputs": [],
   "source": [
    "X = df.drop(columns=[target])\n",
    "y = df[target]"
   ]
  },
  {
   "cell_type": "markdown",
   "id": "2176d53c",
   "metadata": {},
   "source": [
    "## 6. Train-Test Split"
   ]
  },
  {
   "cell_type": "markdown",
   "id": "2b377323",
   "metadata": {},
   "source": [
    "> We split the dataset into training and testing sets to evaluate model performance on unseen data. This helps prevent overfitting and gives us a better idea of real-world accuracy."
   ]
  },
  {
   "cell_type": "code",
   "execution_count": null,
   "id": "e7240aeb",
   "metadata": {},
   "outputs": [],
   "source": [
    "X_train, X_test, y_train, y_test = train_test_split(X, y, test_size=0.2, random_state=42)"
   ]
  },
  {
   "cell_type": "markdown",
   "id": "e8800a99",
   "metadata": {},
   "source": [
    "## 7. Linear Regression Model"
   ]
  },
  {
   "cell_type": "markdown",
   "id": "6ede3b4e",
   "metadata": {},
   "source": [
    "> We train a **Linear Regression model** as our baseline. This model predicts obesity prevalence based on the input features without any regularization."
   ]
  },
  {
   "cell_type": "code",
   "execution_count": null,
   "id": "dc33608e",
   "metadata": {},
   "outputs": [],
   "source": [
    "lr = LinearRegression()\n",
    "lr.fit(X_train, y_train)\n",
    "y_pred_lr = lr.predict(X_test)\n",
    "r2_lr = r2_score(y_test, y_pred_lr)\n",
    "\n",
    "print(f\"\\nLinear Regression R² score: {r2_lr:.4f}\")"
   ]
  },
  {
   "cell_type": "markdown",
   "id": "f51ca452",
   "metadata": {},
   "source": [
    "## 8. Lasso Regression Model"
   ]
  },
  {
   "cell_type": "markdown",
   "id": "dc26b6df",
   "metadata": {},
   "source": [
    "> **Lasso Regression** is a linear model that includes regularization, which shrinks some feature coefficients and can even reduce some to zero, simplifying the model."
   ]
  },
  {
   "cell_type": "markdown",
   "id": "bced9191",
   "metadata": {},
   "source": [
    "### What is Alpha?\n",
    "\n",
    "> **Alpha controls the regularization strength:**\n",
    "\n",
    "> Low alpha → minimal penalty → model behaves like regular regression.\n",
    "\n",
    "> High alpha → stronger penalty → model becomes simpler but may lose accuracy.\n"
   ]
  },
  {
   "cell_type": "code",
   "execution_count": null,
   "id": "b2347cc9",
   "metadata": {},
   "outputs": [],
   "source": [
    "alphas = np.linspace(0.01, 20, 50)\n",
    "r2_scores = []\n",
    "\n",
    "for alpha in alphas:\n",
    "    lasso = Lasso(alpha=alpha, max_iter=10000)\n",
    "    lasso.fit(X_train, y_train)\n",
    "    y_pred_lasso = lasso.predict(X_test)\n",
    "    r2_scores.append(r2_score(y_test, y_pred_lasso))"
   ]
  },
  {
   "cell_type": "markdown",
   "id": "230ce2f4",
   "metadata": {},
   "source": [
    "> We test a **range of alpha values** to see how model performance changes."
   ]
  },
  {
   "cell_type": "code",
   "execution_count": null,
   "id": "e8f83135",
   "metadata": {},
   "outputs": [],
   "source": [
    "# Plot R² vs Alpha\n",
    "plt.figure(figsize=(10, 6))\n",
    "plt.plot(alphas, r2_scores, marker='o')\n",
    "plt.xlabel('Alpha')\n",
    "plt.ylabel('R² Score')\n",
    "plt.title('Lasso Regression: R² Score vs Alpha')\n",
    "plt.grid(True)\n",
    "plt.show()"
   ]
  },
  {
   "cell_type": "markdown",
   "id": "488b7e03",
   "metadata": {},
   "source": [
    "> When **alpha increases**, the R² score typically **decreases** because the model is becoming overly simple and starts underfitting the data.\n"
   ]
  },
  {
   "cell_type": "markdown",
   "id": "365ca54b",
   "metadata": {},
   "source": [
    "## 9. Optimize Lasso with Cross-Validation"
   ]
  },
  {
   "cell_type": "code",
   "execution_count": null,
   "id": "1fca3deb",
   "metadata": {},
   "outputs": [],
   "source": [
    "param_grid = {'alpha': alphas}\n",
    "grid = GridSearchCV(Lasso(max_iter=10000), param_grid, cv=5, scoring='r2')\n",
    "grid.fit(X_train, y_train)\n",
    "\n",
    "best_alpha = grid.best_params_['alpha']\n",
    "print(f\"\\nBest alpha from cross-validation: {best_alpha:.2f}\")\n",
    "print(f\"Best cross-validated R² score: {grid.best_score_:.4f}\")\n",
    "\n",
    "# Final Lasso Model\n",
    "lasso_final = Lasso(alpha=best_alpha, max_iter=10000)\n",
    "lasso_final.fit(X_train, y_train)\n",
    "y_pred_final = lasso_final.predict(X_test)\n",
    "r2_final = r2_score(y_test, y_pred_final)\n",
    "print(f\"Final Lasso Model R² score on test set: {r2_final:.4f}\")"
   ]
  },
  {
   "cell_type": "markdown",
   "id": "16a8f6db",
   "metadata": {},
   "source": [
    "## 10. Cross-Validation for Linear Regression"
   ]
  },
  {
   "cell_type": "code",
   "execution_count": null,
   "id": "33da8045",
   "metadata": {},
   "outputs": [],
   "source": [
    "cv_scores_lr = cross_val_score(lr, X, y, cv=5, scoring='r2')\n",
    "print(f\"\\nCross-validated R² scores (Linear Regression): {cv_scores_lr}\")\n",
    "print(f\"Mean CV R² score: {cv_scores_lr.mean():.4f}\")"
   ]
  }
 ],
 "metadata": {
  "kernelspec": {
   "display_name": "Python 3",
   "language": "python",
   "name": "python3"
  },
  "language_info": {
   "codemirror_mode": {
    "name": "ipython",
    "version": 3
   },
   "file_extension": ".py",
   "mimetype": "text/x-python",
   "name": "python",
   "nbconvert_exporter": "python",
   "pygments_lexer": "ipython3",
   "version": "3.11.4"
  }
 },
 "nbformat": 4,
 "nbformat_minor": 5
}
